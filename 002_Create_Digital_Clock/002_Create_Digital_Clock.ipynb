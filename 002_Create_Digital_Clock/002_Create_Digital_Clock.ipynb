{
 "cells": [
  {
   "cell_type": "markdown",
   "metadata": {},
   "source": [
    "<small><small><i>\n",
    "All the IPython Notebooks in Python Mini-Projects series by Dr. Milan Parmar are available @ **[GitHub](https://github.com/milaan9/91_Python_Mini_Projects)**\n",
    "</i></small></small>"
   ]
  },
  {
   "cell_type": "markdown",
   "metadata": {},
   "source": [
    "# Python Program to Create Digital Clock"
   ]
  },
  {
   "cell_type": "code",
   "execution_count": 1,
   "metadata": {
    "ExecuteTime": {
     "end_time": "2021-07-24T18:28:12.365961Z",
     "start_time": "2021-07-24T18:27:06.493550Z"
    }
   },
   "outputs": [],
   "source": [
    "'''\n",
    "Python Program to Create Digital Clock\n",
    "'''\n",
    "# Import necessary modules!\n",
    "from tkinter import *\n",
    "from tkinter.ttk import *\n",
    "\n",
    "# Import time\n",
    "from time import strftime\n",
    "\n",
    "# Create UI for our digital clock.\n",
    "root = Tk()\n",
    "\n",
    "# Set the title of our clock using title method.\n",
    "root.title(\"Digital clock\")\n",
    "\n",
    "# Define a clock function to get the time\n",
    "# Use strftime method to get the time and store it inside a string and name the string as tick\n",
    "def clock():\n",
    "    tick = strftime(\"%H:%M:%S %p\")\n",
    "    \n",
    "    # Set the label using config method.\n",
    "    label.config(text =tick)\n",
    "\n",
    "    # Call our clock function and use the after method to do the same\n",
    "    label.after(1000, clock)\n",
    "\n",
    "# Use label method to store our title.    \n",
    "label = Label(root, font = (\"segoe\", 60), foreground = \"yellow\", background = \"black\")\n",
    "\n",
    "# Use pack method to pack our label\n",
    "# Define the alignment of the label using the anchor method.\n",
    "label.pack(anchor= \"center\")\n",
    "\n",
    "# Call our clock function and at the end we will call it mainloop\n",
    "clock()\n",
    "mainloop()"
   ]
  },
  {
   "cell_type": "markdown",
   "metadata": {},
   "source": [
    "<p align=\"center\">  \n",
    " <img src=\"dclock.png\" width=\"350\"/>\n",
    "</p>  "
   ]
  },
  {
   "cell_type": "code",
   "execution_count": null,
   "metadata": {},
   "outputs": [],
   "source": []
  }
 ],
 "metadata": {
  "hide_input": false,
  "kernelspec": {
   "display_name": "Python 3",
   "language": "python",
   "name": "python3"
  },
  "language_info": {
   "codemirror_mode": {
    "name": "ipython",
    "version": 3
   },
   "file_extension": ".py",
   "mimetype": "text/x-python",
   "name": "python",
   "nbconvert_exporter": "python",
   "pygments_lexer": "ipython3",
   "version": "3.8.8"
  },
  "toc": {
   "base_numbering": 1,
   "nav_menu": {},
   "number_sections": true,
   "sideBar": true,
   "skip_h1_title": false,
   "title_cell": "Table of Contents",
   "title_sidebar": "Contents",
   "toc_cell": false,
   "toc_position": {},
   "toc_section_display": true,
   "toc_window_display": false
  },
  "varInspector": {
   "cols": {
    "lenName": 16,
    "lenType": 16,
    "lenVar": 40
   },
   "kernels_config": {
    "python": {
     "delete_cmd_postfix": "",
     "delete_cmd_prefix": "del ",
     "library": "var_list.py",
     "varRefreshCmd": "print(var_dic_list())"
    },
    "r": {
     "delete_cmd_postfix": ") ",
     "delete_cmd_prefix": "rm(",
     "library": "var_list.r",
     "varRefreshCmd": "cat(var_dic_list()) "
    }
   },
   "types_to_exclude": [
    "module",
    "function",
    "builtin_function_or_method",
    "instance",
    "_Feature"
   ],
   "window_display": false
  }
 },
 "nbformat": 4,
 "nbformat_minor": 2
}
