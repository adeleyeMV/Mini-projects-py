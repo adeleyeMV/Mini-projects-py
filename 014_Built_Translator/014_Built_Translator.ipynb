{
 "cells": [
  {
   "cell_type": "markdown",
   "metadata": {},
   "source": [
    "<small><small><i>\n",
    "All the IPython Notebooks in python tips series by Dr. Milan Parmar are available @ **[GitHub](https://github.com/milaan9/91_Python_Tips/blob/main/000_Convert_Jupyter_Notebook_to_PDF.ipynb)**\n",
    "</i></small></small>"
   ]
  },
  {
   "cell_type": "markdown",
   "metadata": {},
   "source": [
    "# Python Program to Built Translator"
   ]
  },
  {
   "cell_type": "code",
   "execution_count": 1,
   "metadata": {
    "ExecuteTime": {
     "end_time": "2021-07-25T06:33:26.850053Z",
     "start_time": "2021-07-25T06:33:26.820755Z"
    }
   },
   "outputs": [
    {
     "name": "stdout",
     "output_type": "stream",
     "text": [
      "Starting to Unzip the File\n",
      "\n",
      "File is Succesfully Unzipped!\n"
     ]
    }
   ],
   "source": [
    "'''\n",
    "Python Program to built translator\n",
    "'''\n",
    "\n",
    "# import the necessary module!\n",
    "from googletrans import Translator\n",
    "\n",
    "# Store some text for translation in french language\n",
    "text = '''  Pour souvent, quand sur mon canapé je mens\n",
    "D'humeur vacante ou songeuse,\n",
    "Ils clignotent sur cet œil intérieur\n",
    "Quel est le bonheur de la solitude;\n",
    "Et puis mon cœur se remplit de plaisir,\n",
    "Et danse avec les jonquilles. '''\n",
    "\n",
    "# Create an instance of Translator to use\n",
    "translator = Translator()\n",
    "\n",
    "# detect the language\n",
    "lang = translator.detect(text)\n",
    "print(lang)\n",
    "print(' ')\n",
    "\n",
    "# Call the translate()\n",
    "translated = translator.translate(text, dest = \"en\")\n",
    "\n",
    "#print the result\n",
    "print(translated.text)"
   ]
  },
  {
   "cell_type": "code",
   "execution_count": null,
   "metadata": {},
   "outputs": [],
   "source": []
  }
 ],
 "metadata": {
  "hide_input": false,
  "kernelspec": {
   "display_name": "Python 3",
   "language": "python",
   "name": "python3"
  },
  "language_info": {
   "codemirror_mode": {
    "name": "ipython",
    "version": 3
   },
   "file_extension": ".py",
   "mimetype": "text/x-python",
   "name": "python",
   "nbconvert_exporter": "python",
   "pygments_lexer": "ipython3",
   "version": "3.8.8"
  },
  "toc": {
   "base_numbering": 1,
   "nav_menu": {},
   "number_sections": true,
   "sideBar": true,
   "skip_h1_title": false,
   "title_cell": "Table of Contents",
   "title_sidebar": "Contents",
   "toc_cell": false,
   "toc_position": {},
   "toc_section_display": true,
   "toc_window_display": false
  },
  "varInspector": {
   "cols": {
    "lenName": 16,
    "lenType": 16,
    "lenVar": 40
   },
   "kernels_config": {
    "python": {
     "delete_cmd_postfix": "",
     "delete_cmd_prefix": "del ",
     "library": "var_list.py",
     "varRefreshCmd": "print(var_dic_list())"
    },
    "r": {
     "delete_cmd_postfix": ") ",
     "delete_cmd_prefix": "rm(",
     "library": "var_list.r",
     "varRefreshCmd": "cat(var_dic_list()) "
    }
   },
   "types_to_exclude": [
    "module",
    "function",
    "builtin_function_or_method",
    "instance",
    "_Feature"
   ],
   "window_display": false
  }
 },
 "nbformat": 4,
 "nbformat_minor": 2
}
